{
 "cells": [
  {
   "cell_type": "code",
   "execution_count": 13,
   "metadata": {},
   "outputs": [],
   "source": [
    "import numpy as np\n",
    "import matplotlib.pyplot as plt\n",
    "from scipy.stats import norm\n",
    "import pandas as pd \n",
    "import math"
   ]
  },
  {
   "cell_type": "code",
   "execution_count": 14,
   "metadata": {},
   "outputs": [],
   "source": [
    "def run(train_data, test_data, token):\n",
    "#     train_temp = pd.DataFrame(data=train_data)\n",
    "    train_diabete = train_data[train_data['label'] == 1]\n",
    "    train_healthy = train_data[train_data['label'] == 0]\n",
    "    \n",
    "    # Get p_diabete and p_healthy\n",
    "    label = np.array(train_data.label)\n",
    "    label_bin = np.bincount(label)\n",
    "    p_diabete = label_bin[1]/(label_bin[0] + label_bin[1])\n",
    "    p_healthy = 1 - p_diabete\n",
    "    \n",
    "    # get mean and variance for healthy patients\n",
    "    temp = train_healthy.loc[:,token]\n",
    "    mean_healthy = np.nanmean(temp, axis=0)\n",
    "    var_healthy = np.nanvar(temp, axis=0)\n",
    "    \n",
    "    # get mean and variance for diabete patients\n",
    "    temp = train_diabete.loc[:,token]\n",
    "    mean_diabete = np.nanmean(temp, axis=0)\n",
    "    var_diabete = np.nanvar(temp, axis=0)\n",
    "    \n",
    "    # treating test data\n",
    "    test_input  = test_data.loc[:,token]\n",
    "    test_label  = test_data.loc[:,\"label\"].values\n",
    "    \n",
    "    diabete_rate = np.log(norm.pdf(test_input, mean_diabete, np.sqrt(var_diabete)))\n",
    "    diabete_rate = [np.sum(arr) + np.log(p_diabete) for arr in diabete_rate]\n",
    "    healthy_rate = np.log(norm.pdf(test_input, mean_healthy, np.sqrt(var_healthy)))\n",
    "    healthy_rate = [np.sum(arr) + np.log(p_healthy) for arr in healthy_rate]\n",
    "    \n",
    "   # diabete_rate>healthy_rate, 152\n",
    "    p = 0\n",
    "    for i in range(152):\n",
    "        if(test_label[i] == int(diabete_rate[i] >= healthy_rate[i])):\n",
    "            p += 1\n",
    "    return (p/152)\n"
   ]
  },
  {
   "cell_type": "code",
   "execution_count": 15,
   "metadata": {},
   "outputs": [],
   "source": [
    "data = pd.read_csv(\"pima-indians-diabetes.csv\") \n",
    "data.columns = [\"preg\", \"plas\", \"pres\", \"skin\", \"test\", \"mass\", \"pedi\", \"age\", \"label\"]\n",
    "\n",
    "p1 = 0\n",
    "for i in range(10):\n",
    "    data = data.sample(frac=1)\n",
    "    train_data = data[:615]\n",
    "    test_data = data[615:]\n",
    "    p1 += run(train_data, test_data, [\"preg\", \"plas\", \"pres\", \"skin\", \"test\", \"mass\", \"pedi\", \"age\"])"
   ]
  },
  {
   "cell_type": "code",
   "execution_count": 16,
   "metadata": {},
   "outputs": [],
   "source": [
    "# data['test'][data['test'] == 0] = np.nan\n",
    "data['pres'] = data['pres'].replace(0, np.nan)\n",
    "data['skin'] = data['skin'].replace(0, np.nan)\n",
    "data['mass'] = data['mass'].replace(0, np.nan)\n",
    "data['age' ] = data['age' ].replace(0, np.nan)"
   ]
  },
  {
   "cell_type": "code",
   "execution_count": 17,
   "metadata": {},
   "outputs": [],
   "source": [
    "p2 = 0\n",
    "for i in range(10):\n",
    "    data = data.sample(frac=1)\n",
    "    train_data = data[:615]\n",
    "    test_data = data[615:]\n",
    "    p2 += run(train_data, test_data, [\"preg\", \"plas\", \"pres\", \"skin\", \"test\", \"mass\", \"pedi\", \"age\"])"
   ]
  },
  {
   "cell_type": "code",
   "execution_count": 19,
   "metadata": {},
   "outputs": [
    {
     "name": "stdout",
     "output_type": "stream",
     "text": [
      "Part One:  0.7651315789473684 \n",
      "Part Two:  0.7157894736842104\n"
     ]
    }
   ],
   "source": [
    "print(\"Part One: \", p1/10, \"\\nPart Two: \", p2/10)"
   ]
  },
  {
   "cell_type": "code",
   "execution_count": null,
   "metadata": {},
   "outputs": [],
   "source": []
  },
  {
   "cell_type": "code",
   "execution_count": null,
   "metadata": {},
   "outputs": [],
   "source": []
  }
 ],
 "metadata": {
  "kernelspec": {
   "display_name": "Python 3",
   "language": "python",
   "name": "python3"
  },
  "language_info": {
   "codemirror_mode": {
    "name": "ipython",
    "version": 3
   },
   "file_extension": ".py",
   "mimetype": "text/x-python",
   "name": "python",
   "nbconvert_exporter": "python",
   "pygments_lexer": "ipython3",
   "version": "3.7.1"
  }
 },
 "nbformat": 4,
 "nbformat_minor": 2
}
