{
 "cells": [
  {
   "cell_type": "code",
   "execution_count": 1,
   "metadata": {},
   "outputs": [],
   "source": [
    "import numpy as np\n",
    "import pandas as pd\n",
    "from numpy import linalg as LA\n",
    "from sklearn.decomposition import PCA\n",
    "import random\n",
    "\n",
    "dataI   = pd.read_csv('hw3-data/dataI.csv')\n",
    "dataII  = pd.read_csv('hw3-data/dataII.csv')\n",
    "dataIII = pd.read_csv('hw3-data/dataIII.csv')\n",
    "dataIV  = pd.read_csv('hw3-data/dataIV.csv')\n",
    "dataV   = pd.read_csv('hw3-data/dataV.csv')\n",
    "noiseless = pd.read_csv('hw3-data/iris.csv')\n",
    "\n",
    "numbr_header = \"0N, 1N, 2N, 3N, 4N, 0c, 1c, 2c, 3c, 4c\"\n",
    "recon_header = \"\\\"Sepal.Length\\\",\\\"Sepal.Width\\\",\\\"Petal.Length\\\",\\\"Petal.Width\\\"\"\n",
    "\n",
    "ret = []\n",
    "\n",
    "def _PCA(train, noiseless, flag = 0, plot = 0):\n",
    "    _train = np.asarray(train.values)\n",
    "    _noiseless = np.asarray(noiseless.values)\n",
    "    mean_arr = np.mean(_noiseless, axis = 0) if flag else np.mean(_train, axis = 0)\n",
    "    t_pca = PCA()\n",
    "    t_pca.fit(_noiseless - mean_arr) if flag else t_pca.fit(_train - mean_arr)\n",
    "    t_mat = t_pca.transform(train - mean_arr)\n",
    "\n",
    "    ret_arr = []\n",
    "    for i in range(0, 5):\n",
    "        temp = (np.dot(t_mat[:, :i], t_pca.components_[:i, :]) + mean_arr)\n",
    "        if plot == 1 and i == 2:\n",
    "            np.savetxt('recon.csv', temp, delimiter=\",\", header = recon_header, comments = \"\")\n",
    "        ret_arr.append(np.mean(np.sum(np.power(temp - _noiseless, 2), axis = 1)))\n",
    "    return ret_arr\n"
   ]
  },
  {
   "cell_type": "code",
   "execution_count": 2,
   "metadata": {},
   "outputs": [],
   "source": [
    "ret.append(np.concatenate((_PCA(dataI, noiseless, 1), _PCA(dataI, noiseless, 0, 1))))\n",
    "ret.append(np.concatenate((_PCA(dataII, noiseless, 1), _PCA(dataII, noiseless,))))\n",
    "ret.append(np.concatenate((_PCA(dataIII, noiseless, 1), _PCA(dataIII, noiseless))))\n",
    "ret.append(np.concatenate((_PCA(dataIV, noiseless, 1), _PCA(dataIV, noiseless))))\n",
    "ret.append(np.concatenate((_PCA(dataV, noiseless, 1), _PCA(dataV, noiseless))))"
   ]
  },
  {
   "cell_type": "code",
   "execution_count": 3,
   "metadata": {},
   "outputs": [],
   "source": [
    "np.savetxt('numbers.csv', ret, delimiter=\",\", header = numbr_header, comments = \"\")"
   ]
  },
  {
   "cell_type": "code",
   "execution_count": null,
   "metadata": {},
   "outputs": [],
   "source": []
  }
 ],
 "metadata": {
  "kernelspec": {
   "display_name": "Python 3",
   "language": "python",
   "name": "python3"
  },
  "language_info": {
   "codemirror_mode": {
    "name": "ipython",
    "version": 3
   },
   "file_extension": ".py",
   "mimetype": "text/x-python",
   "name": "python",
   "nbconvert_exporter": "python",
   "pygments_lexer": "ipython3",
   "version": "3.7.1"
  }
 },
 "nbformat": 4,
 "nbformat_minor": 2
}
