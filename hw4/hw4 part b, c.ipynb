{
 "cells": [
  {
   "cell_type": "code",
   "execution_count": 1,
   "metadata": {},
   "outputs": [
    {
     "name": "stdout",
     "output_type": "stream",
     "text": [
      "[(6000, 3072), (6000, 3072), (6000, 3072), (6000, 3072), (6000, 3072), (6000, 3072), (6000, 3072), (6000, 3072), (6000, 3072), (6000, 3072)]\n"
     ]
    }
   ],
   "source": [
    "import numpy as np\n",
    "import pandas as pd\n",
    "from sklearn.decomposition import PCA\n",
    "from matplotlib import pyplot\n",
    "import random\n",
    "import cv2\n",
    "import scipy\n",
    "from sklearn.metrics.pairwise import euclidean_distances\n",
    "\n",
    "# ret = []\n",
    "\n",
    "def unpickle(file):\n",
    "    import pickle\n",
    "    with open(file, 'rb') as fo:\n",
    "        dict = pickle.load(fo, encoding='bytes')\n",
    "    return dict\n",
    "file_dir = \"cifar-10-batches-py/\"\n",
    "file_names = [\"data_batch_1\", \"data_batch_2\", \"data_batch_3\", \"data_batch_4\", \"data_batch_5\", \"test_batch\"]\n",
    "data_arr, label_arr = None, None\n",
    "for f in file_names:\n",
    "    temp = unpickle(file_dir + f)\n",
    "    data_arr  = temp[b'data'] if data_arr is None else np.concatenate((data_arr, temp[b'data']), axis = 0)\n",
    "    label_arr = temp[b'labels'] if label_arr is None else np.concatenate((label_arr, temp[b'labels']), axis = 0)\n",
    "cat_arr = [[] for i in range(10)]\n",
    "for i in range(len(label_arr)):\n",
    "    cat_arr[label_arr[i]].append(data_arr[i])\n",
    "    \n",
    "print([np.asarray(cat_arr[i]).shape for i in range(10)])\n",
    "\n",
    "mean_arr = [np.mean(temp, axis = 0, dtype = float) for temp in cat_arr]\n"
   ]
  },
  {
   "cell_type": "code",
   "execution_count": 2,
   "metadata": {},
   "outputs": [
    {
     "data": {
      "image/png": "[encoded data removed]",
      "text/plain": [
       "<Figure size 432x288 with 1 Axes>"
      ]
     },
     "metadata": {
      "needs_background": "light"
     },
     "output_type": "display_data"
    }
   ],
   "source": [
    "# Euclidean Distance Matrix\n",
    "ed_matrix = euclidean_distances(mean_arr, mean_arr, squared = True)\n",
    "for i in range (ed_matrix.shape[0]):\n",
    "    ed_matrix[i][i] = 0\n",
    "\n",
    "def MDS(D, N, s):\n",
    "    A = np.identity(N) - 1/N*np.ones((N, N))\n",
    "    W = -1/2*A@D@A.T\n",
    "    u, sig, vh = np.linalg.svd(W)\n",
    "    sig2 = np.diag(sig)\n",
    "    Y = u[:, 0:s]@np.sqrt(sig2[0:s, 0:s])\n",
    "    return Y\n",
    "Y_plot = MDS(ed_matrix, 10, 2)\n",
    "\n",
    "part_b = pyplot.figure()\n",
    "part_b.suptitle('part b plot', fontsize = 15)\n",
    "x_data = Y_plot[:, 0]\n",
    "y_data = Y_plot[:, 1]\n",
    "pyplot.scatter(x_data, y_data)\n",
    "\n",
    "np.savetxt(\"partb_distances.csv\", ed_matrix, delimiter=\",\")"
   ]
  },
  {
   "cell_type": "code",
   "execution_count": 3,
   "metadata": {},
   "outputs": [
    {
     "name": "stdout",
     "output_type": "stream",
     "text": [
      "0  complete\n",
      "1  complete\n",
      "2  complete\n",
      "3  complete\n",
      "4  complete\n",
      "5  complete\n",
      "6  complete\n",
      "7  complete\n",
      "8  complete\n",
      "9  complete\n",
      "11  complete\n",
      "12  complete\n",
      "13  complete\n",
      "14  complete\n",
      "15  complete\n",
      "16  complete\n",
      "17  complete\n",
      "18  complete\n",
      "19  complete\n",
      "22  complete\n",
      "23  complete\n",
      "24  complete\n",
      "25  complete\n",
      "26  complete\n",
      "27  complete\n",
      "28  complete\n",
      "29  complete\n",
      "33  complete\n",
      "34  complete\n",
      "35  complete\n",
      "36  complete\n",
      "37  complete\n",
      "38  complete\n",
      "39  complete\n",
      "44  complete\n",
      "45  complete\n",
      "46  complete\n",
      "47  complete\n",
      "48  complete\n",
      "49  complete\n",
      "55  complete\n",
      "56  complete\n",
      "57  complete\n",
      "58  complete\n",
      "59  complete\n",
      "66  complete\n",
      "67  complete\n",
      "68  complete\n",
      "69  complete\n",
      "77  complete\n",
      "78  complete\n",
      "79  complete\n",
      "88  complete\n",
      "89  complete\n",
      "99  complete\n"
     ]
    }
   ],
   "source": [
    "def A_PCA(train, recon, mean_arr):\n",
    "    t_pca = PCA()\n",
    "    t_pca.fit(train - mean_arr)\n",
    "    t_mat = t_pca.transform(recon - mean_arr)\n",
    "    return np.dot(t_mat[:, :20], t_pca.components_[:20, :]) + mean_arr\n",
    "\n",
    "def Dist2(cat, rec):\n",
    "    holder = []\n",
    "    for i in range(len(rec)):\n",
    "        holder.append(scipy.spatial.distance.euclidean(cat[i], rec[i])**2)\n",
    "    return np.mean(holder)\n",
    "\n",
    "# Part C\n",
    "partc_distances = np.zeros((10, 10))\n",
    "for i in range(10):\n",
    "    for j in range(i, 10):\n",
    "        print(i*10 + j, \" complete\")\n",
    "        partc_distances[i, j] = (Dist2(cat_arr[i], A_PCA(cat_arr[j], cat_arr[i], mean_arr[j])) + \n",
    "                          Dist2(cat_arr[j], A_PCA(cat_arr[i], cat_arr[j], mean_arr[i])))/2\n",
    "        if(i != j):\n",
    "            partc_distances[j, i] = partc_distances[i, j]"
   ]
  },
  {
   "cell_type": "code",
   "execution_count": 6,
   "metadata": {},
   "outputs": [],
   "source": [
    "np.savetxt(\"partc_distances.csv\", partc_distances, delimiter=\",\")"
   ]
  },
  {
   "cell_type": "code",
   "execution_count": 7,
   "metadata": {},
   "outputs": [
    {
     "data": {
      "text/plain": [
       "<matplotlib.collections.PathCollection at 0x10a22f748>"
      ]
     },
     "execution_count": 7,
     "metadata": {},
     "output_type": "execute_result"
    },
    {
     "data": {
      "image/png": "[encoded data removed]",
      "text/plain": [
       "<Figure size 432x288 with 1 Axes>"
      ]
     },
     "metadata": {
      "needs_background": "light"
     },
     "output_type": "display_data"
    }
   ],
   "source": [
    "pc_plot = MDS(partc_distances, 10, 2)\n",
    "\n",
    "part_c = pyplot.figure()\n",
    "part_c.suptitle('part c plot', fontsize = 15)\n",
    "x_dat = pc_plot[:, 0]\n",
    "y_dat = pc_plot[:, 1]\n",
    "pyplot.scatter(x_dat, y_dat)"
   ]
  },
  {
   "cell_type": "code",
   "execution_count": null,
   "metadata": {},
   "outputs": [],
   "source": []
  }
 ],
 "metadata": {
  "kernelspec": {
   "display_name": "Python 3",
   "language": "python",
   "name": "python3"
  },
  "language_info": {
   "codemirror_mode": {
    "name": "ipython",
    "version": 3
   },
   "file_extension": ".py",
   "mimetype": "text/x-python",
   "name": "python",
   "nbconvert_exporter": "python",
   "pygments_lexer": "ipython3",
   "version": "3.7.1"
  }
 },
 "nbformat": 4,
 "nbformat_minor": 2
}
