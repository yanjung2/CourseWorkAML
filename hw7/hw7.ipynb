{
 "cells": [
  {
   "cell_type": "code",
   "execution_count": 11,
   "metadata": {},
   "outputs": [],
   "source": [
    "import numpy as np\n",
    "import pandas as pd\n",
    "from numpy import linalg as LA\n",
    "from sklearn.decomposition import PCA\n",
    "import random\n",
    "\n",
    "csv = pd.read_csv(\"yelp_2k.csv\")"
   ]
  },
  {
   "cell_type": "code",
   "execution_count": 12,
   "metadata": {},
   "outputs": [],
   "source": [
    "data = [d.lower() for d in csv.text]\n",
    "label = csv.stars"
   ]
  },
  {
   "cell_type": "code",
   "execution_count": 13,
   "metadata": {},
   "outputs": [],
   "source": [
    "# Configuration \n",
    "_min_df = 3;\n",
    "_max_df = 1250;\n",
    "_stop_words = ['would', 'out', 'when', 'all', 'if', 'he', 'as', 'there', 'food', \n",
    "               'place', 'be', 'are', 'were', 'so', 'at', 'me', 'had', 'but', 'have', 'not', \n",
    "               'on', 'with', 'you', 'we', 'this', 'they', 'that', 'is', 'my', 'in', 'for', 'of', \n",
    "               'it', 'was', 'to', 'and', 'the', 'you', '2am', '2x', '33', '37', '38', '3am', '43', \n",
    "               '48', '4oz', '4x', '51', '55', '600', '6pm', '700', '7am', '7pm', '89']"
   ]
  },
  {
   "cell_type": "code",
   "execution_count": 14,
   "metadata": {},
   "outputs": [
    {
     "data": {
      "text/plain": [
       "<Figure size 640x480 with 1 Axes>"
      ]
     },
     "metadata": {},
     "output_type": "display_data"
    }
   ],
   "source": [
    "from sklearn.feature_extraction.text import CountVectorizer\n",
    "import matplotlib.pyplot as plt\n",
    "# vectorizer = CountVectorizer(min_df = _min_df, max_df = _max_df)\n",
    "vectorizer = CountVectorizer()\n",
    "X = vectorizer.fit_transform(data)\n",
    "wordCount = np.sum(np.array(X.toarray()), axis = 0)\n",
    "RankWords = [x for _,x in sorted(zip(wordCount,vectorizer.get_feature_names()))]\n",
    "\n",
    "plt.scatter(np.arange(len(wordCount)), sorted(wordCount), label = 'counts')\n",
    "plt.title(\"Word Frequency without stop_word and bounding\")\n",
    "plt.xlabel(\"Word Rank\")\n",
    "plt.ylabel(\"Word Count\")\n",
    "plt.legend(loc='best')\n",
    "plt.show()"
   ]
  },
  {
   "cell_type": "code",
   "execution_count": 15,
   "metadata": {},
   "outputs": [],
   "source": [
    "RankWordsPair = [(y,x) for (y,x) in sorted(zip(wordCount,vectorizer.get_feature_names()))]\n"
   ]
  },
  {
   "cell_type": "code",
   "execution_count": 16,
   "metadata": {},
   "outputs": [
    {
     "data": {
      "image/png": "[encoded data removed]",
      "text/plain": [
       "<Figure size 432x288 with 1 Axes>"
      ]
     },
     "metadata": {
      "needs_background": "light"
     },
     "output_type": "display_data"
    }
   ],
   "source": [
    "new_vectorizer = CountVectorizer(min_df = _min_df, max_df = _max_df, stop_words = _stop_words)\n",
    "X = new_vectorizer.fit_transform([\"horrible customer service\"] + data)\n",
    "wordCount = np.sum(np.array(X.toarray()), axis = 0)\n",
    "\n",
    "plt.scatter(np.arange(len(wordCount)), sorted(wordCount), label = 'counts')\n",
    "plt.title(\"Word Frequency without stop_word and bounding\")\n",
    "plt.xlabel(\"Word Rank\")\n",
    "plt.ylabel(\"Word Count\")\n",
    "plt.legend(loc='best')\n",
    "plt.show()\n",
    "\n",
    "bag_vec = X.toarray()"
   ]
  },
  {
   "cell_type": "code",
   "execution_count": 17,
   "metadata": {},
   "outputs": [
    {
     "name": "stdout",
     "output_type": "stream",
     "text": [
      "[[0.35450278 0.49871959 0.55555556 0.61509982 0.61764044]]\n",
      "Reviews 1808\n",
      "rogers ...\n",
      "\n",
      "1) is over priced\n",
      "2) have horrible customer service\n",
      "3) faulty and incorrect billing\n",
      "4) poor customer service\n",
      "5) not enough options\n",
      "6) never arrive for an appointment\n",
      "\n",
      "\n",
      "Reviews 90\n",
      "horrible service, horrible customer service, and horrible quality of service!  do not waste your time or money using this company for your pool needs.  dan (602)363-8267 broke my pool filtration system and left it in a nonworking condition.  he will not repair the issue he caused, and told me to go somewhere else.  \n",
      "\n",
      "save yourself the hassle, there are plenty of other quality pool companies out there.  \n",
      "\n",
      "take care!\n",
      "\n",
      "\n",
      "Reviews 729\n",
      "service was horrible came with a major attitude. payed 30 for lasagna and was no where worth it. won't ever be going back and will never recommend this place. was treated absolutely horrible. horrible.\n",
      "\n",
      "\n",
      "Reviews 825\n",
      "customer service was super bad. the pizza was cold by the time they delivered it to me.\n",
      "\n",
      "\n",
      "Reviews 1721\n",
      "went to marca today to get a haircut and was given a great service both by front desk - customer service and by georgia, girl who did my hair. i guess i got lucky with her as she has years of experience doing this job. she has excellent customer service skills and takes excellent care of her customers.\n",
      "\n",
      "\n"
     ]
    }
   ],
   "source": [
    "from sklearn.metrics.pairwise import cosine_distances\n",
    "from sklearn.neighbors import NearestNeighbors\n",
    "\n",
    "neigh = NearestNeighbors(metric = \"cosine\")\n",
    "neigh.fit(bag_vec[1:])\n",
    "result = neigh.kneighbors([bag_vec[0]], 5)\n",
    "print(result[0])\n",
    "for i in result[1][0]:\n",
    "    print(\"Reviews\", i)\n",
    "    print(data[i])\n",
    "    print(\"\\n\")"
   ]
  },
  {
   "cell_type": "code",
   "execution_count": 26,
   "metadata": {},
   "outputs": [
    {
     "name": "stdout",
     "output_type": "stream",
     "text": [
      "[[0.35450278 0.49871959 0.55555556 ... 1.         1.         1.        ]]\n"
     ]
    },
    {
     "data": {
      "image/png": "[encoded data removed]",
      "text/plain": [
       "<Figure size 432x288 with 1 Axes>"
      ]
     },
     "metadata": {
      "needs_background": "light"
     },
     "output_type": "display_data"
    }
   ],
   "source": [
    "result = neigh.kneighbors([bag_vec[0]], 2000)\n",
    "print(result[0])\n",
    "# for i in result[1][0]:\n",
    "#     print(\"Reviews\", i)\n",
    "#     print(data[i])\n",
    "#     print(\"\\n\")\n",
    "plt.plot(result[0][0])\n",
    "plt.show()"
   ]
  },
  {
   "cell_type": "code",
   "execution_count": 27,
   "metadata": {},
   "outputs": [
    {
     "name": "stdout",
     "output_type": "stream",
     "text": [
      "0.925\n"
     ]
    }
   ],
   "source": [
    "from sklearn.linear_model import LogisticRegression\n",
    "train_data = bag_vec[1:][0:1800]\n",
    "train_label = np.array(label[0:1800])\n",
    "test_data = bag_vec[1:][1800:]\n",
    "test_label = np.array(label[1800:])\n",
    "lr = LogisticRegression(solver=\"liblinear\").fit(train_data, train_label)\n",
    "predict_label = lr.predict(test_data)\n",
    "x = 0\n",
    "for i in range(200):\n",
    "    if(predict_label[i] == test_label[i]):\n",
    "        x+=1\n",
    "print(x/200)"
   ]
  },
  {
   "cell_type": "code",
   "execution_count": 28,
   "metadata": {},
   "outputs": [],
   "source": [
    "predicted = lr.predict_proba(bag_vec[1:])\n",
    "pos, neg = [], []\n",
    "for i in range(0,2000):\n",
    "    if(label[i] == 5):\n",
    "        pos.append(predicted[i][1])\n",
    "    else:\n",
    "        neg.append(predicted[i][1])"
   ]
  },
  {
   "cell_type": "code",
   "execution_count": 11,
   "metadata": {},
   "outputs": [
    {
     "data": {
      "image/png": "[encoded data removed]",
      "text/plain": [
       "<Figure size 432x288 with 1 Axes>"
      ]
     },
     "metadata": {
      "needs_background": "light"
     },
     "output_type": "display_data"
    }
   ],
   "source": [
    "plt.hist(pos, bins=100, density=True, label = 'positive')\n",
    "plt.hist(neg, bins=100, density=True, alpha=0.5, label = 'negative')\n",
    "plt.title(\"Histogram of Predicted Score\")\n",
    "plt.xlabel(\"Predicted Score\")\n",
    "plt.ylabel(\"Distribuution (count by bucket)\")\n",
    "plt.gca().legend(('y0','y1'))\n",
    "plt.legend(loc=9)\n",
    "plt.show()"
   ]
  },
  {
   "cell_type": "code",
   "execution_count": 12,
   "metadata": {},
   "outputs": [
    {
     "name": "stdout",
     "output_type": "stream",
     "text": [
      "0.58\n"
     ]
    }
   ],
   "source": [
    "min = 10000;\n",
    "new_threshold = -1;\n",
    "for iter in range(0, 100):\n",
    "    threshold = iter/100\n",
    "    invalid_x = 0;\n",
    "    invalid_y = 0;\n",
    "    for i in pos:\n",
    "        if(i < threshold):\n",
    "            invalid_x += 1\n",
    "    for i in neg:\n",
    "        if(i > threshold):\n",
    "            invalid_y += 1\n",
    "    if(invalid_x + invalid_y < min):\n",
    "        min = invalid_x + invalid_y\n",
    "        new_threshold = iter/100\n",
    "print(new_threshold)"
   ]
  },
  {
   "cell_type": "code",
   "execution_count": 29,
   "metadata": {},
   "outputs": [
    {
     "name": "stdout",
     "output_type": "stream",
     "text": [
      "0.935\n"
     ]
    }
   ],
   "source": [
    "predicted = lr.predict_proba(test_data)\n",
    "correct = 0\n",
    "for i in range(0,200):\n",
    "    if(predicted[i][0] > 0.54):\n",
    "        if(test_label[i] == 1):\n",
    "            correct += 1\n",
    "    else:\n",
    "        if(test_label[i] == 5):\n",
    "            correct += 1\n",
    "print(correct/200)"
   ]
  },
  {
   "cell_type": "code",
   "execution_count": 14,
   "metadata": {},
   "outputs": [
    {
     "data": {
      "image/png": "[encoded data removed]",
      "text/plain": [
       "<Figure size 432x288 with 1 Axes>"
      ]
     },
     "metadata": {
      "needs_background": "light"
     },
     "output_type": "display_data"
    }
   ],
   "source": [
    "import scikitplot as skplt\n",
    "import matplotlib.pyplot as plt\n",
    "import sklearn.metrics as metrics\n",
    "\n",
    "skplt.metrics.plot_roc(test_label, lr.predict_proba(test_data), plot_micro=False, \n",
    "                       plot_macro=False, classes_to_plot = [5])\n",
    "plt.show()"
   ]
  },
  {
   "cell_type": "code",
   "execution_count": 32,
   "metadata": {},
   "outputs": [
    {
     "name": "stdout",
     "output_type": "stream",
     "text": [
      "1.3640350352187472e-12\n"
     ]
    }
   ],
   "source": [
    "fpr, tpr, threshold = metrics.roc_curve(test_label, [x[1] for x in lr.predict_proba(test_data)], pos_label=5)\n",
    "\n",
    "max = -1\n",
    "new_threshold = -1\n",
    "for i in range(len(fpr)):\n",
    "    if(tpr[i] - fpr[i]) > max :\n",
    "        new_threshold = threshold[i]\n",
    "print(new_threshold)"
   ]
  },
  {
   "cell_type": "code",
   "execution_count": null,
   "metadata": {},
   "outputs": [],
   "source": []
  },
  {
   "cell_type": "code",
   "execution_count": null,
   "metadata": {},
   "outputs": [],
   "source": []
  },
  {
   "cell_type": "code",
   "execution_count": null,
   "metadata": {},
   "outputs": [],
   "source": []
  },
  {
   "cell_type": "code",
   "execution_count": null,
   "metadata": {},
   "outputs": [],
   "source": []
  },
  {
   "cell_type": "code",
   "execution_count": null,
   "metadata": {},
   "outputs": [],
   "source": []
  },
  {
   "cell_type": "code",
   "execution_count": null,
   "metadata": {},
   "outputs": [],
   "source": []
  }
 ],
 "metadata": {
  "kernelspec": {
   "display_name": "Python 3",
   "language": "python",
   "name": "python3"
  },
  "language_info": {
   "codemirror_mode": {
    "name": "ipython",
    "version": 3
   },
   "file_extension": ".py",
   "mimetype": "text/x-python",
   "name": "python",
   "nbconvert_exporter": "python",
   "pygments_lexer": "ipython3",
   "version": "3.7.1"
  }
 },
 "nbformat": 4,
 "nbformat_minor": 2
}
